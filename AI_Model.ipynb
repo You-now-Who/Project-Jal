{
  "nbformat": 4,
  "nbformat_minor": 0,
  "metadata": {
    "colab": {
      "name": "AI Model",
      "provenance": [],
      "collapsed_sections": []
    },
    "kernelspec": {
      "name": "python3",
      "display_name": "Python 3"
    },
    "language_info": {
      "name": "python"
    }
  },
  "cells": [
    {
      "cell_type": "code",
      "execution_count": 2,
      "metadata": {
        "id": "nKhFKhQ1zQR0"
      },
      "outputs": [],
      "source": [
        "from sklearn.model_selection import train_test_split\n",
        "from keras.models import Sequential\n",
        "from numpy import argmax\n",
        "\n",
        "import numpy as np\n",
        "import pandas as pd"
      ]
    },
    {
      "cell_type": "code",
      "source": [
        "df = pd.read_csv('chennai_reservoir_levels.csv')"
      ],
      "metadata": {
        "id": "mIqgJwIKMxB5"
      },
      "execution_count": 3,
      "outputs": []
    },
    {
      "cell_type": "code",
      "source": [
        "df['Date'] = pd.to_datetime(df['Date'])\n",
        "df['Year'] = df['Date'].dt.year\n",
        "df['Month'] = df['Date'].dt.month\n",
        "df['Day'] = df['Date'].dt.day\n",
        "\n",
        "#The following code will allow for a better usage of the month so that the model can be as accurate as possible.\n",
        "\n",
        "df['Month'] = df['Month'].astype(int) + df['Day'].astype(int)/30\n",
        "\n",
        "#len(df)"
      ],
      "metadata": {
        "id": "AwngF9ue6JKt"
      },
      "execution_count": 4,
      "outputs": []
    },
    {
      "cell_type": "markdown",
      "source": [
        "For now, we are only going to focus on POONDI. However, this notebook can easily be modified to predict for the other 3 reservoirs too."
      ],
      "metadata": {
        "id": "vo34NI34HKac"
      }
    },
    {
      "cell_type": "code",
      "source": [
        "y = df.POONDI"
      ],
      "metadata": {
        "id": "wsw260Z8FOLV"
      },
      "execution_count": 5,
      "outputs": []
    },
    {
      "cell_type": "code",
      "source": [
        "features = ['Month', 'Year']"
      ],
      "metadata": {
        "id": "aJOFQukiFfMp"
      },
      "execution_count": 6,
      "outputs": []
    },
    {
      "cell_type": "code",
      "source": [
        "X = df[features]\n",
        "\n",
        "X.describe()\n",
        "X.head\n",
        "\n",
        "X_train_full, X_valid_full, y_train, y_valid = train_test_split(X, y, train_size=0.8, test_size=0.2, random_state=0)"
      ],
      "metadata": {
        "id": "fsvMSTShHbZ5"
      },
      "execution_count": 7,
      "outputs": []
    },
    {
      "cell_type": "code",
      "source": [
        ""
      ],
      "metadata": {
        "id": "UVCpGnqnLuSY"
      },
      "execution_count": 7,
      "outputs": []
    },
    {
      "cell_type": "markdown",
      "source": [
        "##Model Training"
      ],
      "metadata": {
        "id": "EYLDacAhMb-x"
      }
    },
    {
      "cell_type": "markdown",
      "source": [
        "We first test what settings would work the best for us and give us the most accuracy, without overfitting"
      ],
      "metadata": {
        "id": "6keF9AlrS_nH"
      }
    },
    {
      "cell_type": "code",
      "source": [
        "from sklearn.metrics import mean_absolute_error\n",
        "from sklearn.tree import DecisionTreeRegressor\n",
        "\n",
        "def get_mae(max_leaf_nodes, train_X, val_X, train_y, val_y):\n",
        "    model = DecisionTreeRegressor(max_leaf_nodes=max_leaf_nodes, random_state=0)\n",
        "    model.fit(train_X, train_y)\n",
        "    preds_val = model.predict(val_X)\n",
        "    mae = mean_absolute_error(val_y, preds_val)\n",
        "    return(mae)"
      ],
      "metadata": {
        "id": "9yjIhF89Meip"
      },
      "execution_count": 8,
      "outputs": []
    },
    {
      "cell_type": "code",
      "source": [
        "for max_leaf_nodes in [5, 50, 500, 5000, 50000]:\n",
        "    my_mae = get_mae(max_leaf_nodes, X_train_full, X_valid_full, y_train, y_valid)\n",
        "    print(\"Max leaf nodes: %d  \\t\\t Mean Absolute Error:  %d\" %(max_leaf_nodes, my_mae))"
      ],
      "metadata": {
        "colab": {
          "base_uri": "https://localhost:8080/"
        },
        "id": "jPagCCtVQOcZ",
        "outputId": "5898715c-eba1-4dc4-ceba-93ad74389730"
      },
      "execution_count": 9,
      "outputs": [
        {
          "output_type": "stream",
          "name": "stdout",
          "text": [
            "Max leaf nodes: 5  \t\t Mean Absolute Error:  561\n",
            "Max leaf nodes: 50  \t\t Mean Absolute Error:  370\n",
            "Max leaf nodes: 500  \t\t Mean Absolute Error:  221\n",
            "Max leaf nodes: 5000  \t\t Mean Absolute Error:  177\n",
            "Max leaf nodes: 50000  \t\t Mean Absolute Error:  177\n"
          ]
        }
      ]
    },
    {
      "cell_type": "markdown",
      "source": [
        "Here, we can see that the MAE is only 177, which is only around 5% error. Therefore our model has an accuracy of 95%"
      ],
      "metadata": {
        "id": "XlOvBXUmSIWN"
      }
    },
    {
      "cell_type": "markdown",
      "source": [
        "Now we make the final function required for the prediction of water level"
      ],
      "metadata": {
        "id": "OG4Oxl9eTXXl"
      }
    },
    {
      "cell_type": "code",
      "source": [
        "X_valid_full.head()"
      ],
      "metadata": {
        "colab": {
          "base_uri": "https://localhost:8080/",
          "height": 206
        },
        "id": "gKUBy-KzUWQa",
        "outputId": "232d888e-23a9-40b2-c866-c33371352b67"
      },
      "execution_count": 10,
      "outputs": [
        {
          "output_type": "execute_result",
          "data": {
            "text/html": [
              "\n",
              "  <div id=\"df-7438ab7d-e7df-4a7e-a842-d795c4e2ad7c\">\n",
              "    <div class=\"colab-df-container\">\n",
              "      <div>\n",
              "<style scoped>\n",
              "    .dataframe tbody tr th:only-of-type {\n",
              "        vertical-align: middle;\n",
              "    }\n",
              "\n",
              "    .dataframe tbody tr th {\n",
              "        vertical-align: top;\n",
              "    }\n",
              "\n",
              "    .dataframe thead th {\n",
              "        text-align: right;\n",
              "    }\n",
              "</style>\n",
              "<table border=\"1\" class=\"dataframe\">\n",
              "  <thead>\n",
              "    <tr style=\"text-align: right;\">\n",
              "      <th></th>\n",
              "      <th>Month</th>\n",
              "      <th>Year</th>\n",
              "    </tr>\n",
              "  </thead>\n",
              "  <tbody>\n",
              "    <tr>\n",
              "      <th>2608</th>\n",
              "      <td>2.700000</td>\n",
              "      <td>2011</td>\n",
              "    </tr>\n",
              "    <tr>\n",
              "      <th>4160</th>\n",
              "      <td>5.766667</td>\n",
              "      <td>2015</td>\n",
              "    </tr>\n",
              "    <tr>\n",
              "      <th>1936</th>\n",
              "      <td>4.666667</td>\n",
              "      <td>2009</td>\n",
              "    </tr>\n",
              "    <tr>\n",
              "      <th>1831</th>\n",
              "      <td>5.033333</td>\n",
              "      <td>2009</td>\n",
              "    </tr>\n",
              "    <tr>\n",
              "      <th>3412</th>\n",
              "      <td>5.166667</td>\n",
              "      <td>2013</td>\n",
              "    </tr>\n",
              "  </tbody>\n",
              "</table>\n",
              "</div>\n",
              "      <button class=\"colab-df-convert\" onclick=\"convertToInteractive('df-7438ab7d-e7df-4a7e-a842-d795c4e2ad7c')\"\n",
              "              title=\"Convert this dataframe to an interactive table.\"\n",
              "              style=\"display:none;\">\n",
              "        \n",
              "  <svg xmlns=\"http://www.w3.org/2000/svg\" height=\"24px\"viewBox=\"0 0 24 24\"\n",
              "       width=\"24px\">\n",
              "    <path d=\"M0 0h24v24H0V0z\" fill=\"none\"/>\n",
              "    <path d=\"M18.56 5.44l.94 2.06.94-2.06 2.06-.94-2.06-.94-.94-2.06-.94 2.06-2.06.94zm-11 1L8.5 8.5l.94-2.06 2.06-.94-2.06-.94L8.5 2.5l-.94 2.06-2.06.94zm10 10l.94 2.06.94-2.06 2.06-.94-2.06-.94-.94-2.06-.94 2.06-2.06.94z\"/><path d=\"M17.41 7.96l-1.37-1.37c-.4-.4-.92-.59-1.43-.59-.52 0-1.04.2-1.43.59L10.3 9.45l-7.72 7.72c-.78.78-.78 2.05 0 2.83L4 21.41c.39.39.9.59 1.41.59.51 0 1.02-.2 1.41-.59l7.78-7.78 2.81-2.81c.8-.78.8-2.07 0-2.86zM5.41 20L4 18.59l7.72-7.72 1.47 1.35L5.41 20z\"/>\n",
              "  </svg>\n",
              "      </button>\n",
              "      \n",
              "  <style>\n",
              "    .colab-df-container {\n",
              "      display:flex;\n",
              "      flex-wrap:wrap;\n",
              "      gap: 12px;\n",
              "    }\n",
              "\n",
              "    .colab-df-convert {\n",
              "      background-color: #E8F0FE;\n",
              "      border: none;\n",
              "      border-radius: 50%;\n",
              "      cursor: pointer;\n",
              "      display: none;\n",
              "      fill: #1967D2;\n",
              "      height: 32px;\n",
              "      padding: 0 0 0 0;\n",
              "      width: 32px;\n",
              "    }\n",
              "\n",
              "    .colab-df-convert:hover {\n",
              "      background-color: #E2EBFA;\n",
              "      box-shadow: 0px 1px 2px rgba(60, 64, 67, 0.3), 0px 1px 3px 1px rgba(60, 64, 67, 0.15);\n",
              "      fill: #174EA6;\n",
              "    }\n",
              "\n",
              "    [theme=dark] .colab-df-convert {\n",
              "      background-color: #3B4455;\n",
              "      fill: #D2E3FC;\n",
              "    }\n",
              "\n",
              "    [theme=dark] .colab-df-convert:hover {\n",
              "      background-color: #434B5C;\n",
              "      box-shadow: 0px 1px 3px 1px rgba(0, 0, 0, 0.15);\n",
              "      filter: drop-shadow(0px 1px 2px rgba(0, 0, 0, 0.3));\n",
              "      fill: #FFFFFF;\n",
              "    }\n",
              "  </style>\n",
              "\n",
              "      <script>\n",
              "        const buttonEl =\n",
              "          document.querySelector('#df-7438ab7d-e7df-4a7e-a842-d795c4e2ad7c button.colab-df-convert');\n",
              "        buttonEl.style.display =\n",
              "          google.colab.kernel.accessAllowed ? 'block' : 'none';\n",
              "\n",
              "        async function convertToInteractive(key) {\n",
              "          const element = document.querySelector('#df-7438ab7d-e7df-4a7e-a842-d795c4e2ad7c');\n",
              "          const dataTable =\n",
              "            await google.colab.kernel.invokeFunction('convertToInteractive',\n",
              "                                                     [key], {});\n",
              "          if (!dataTable) return;\n",
              "\n",
              "          const docLinkHtml = 'Like what you see? Visit the ' +\n",
              "            '<a target=\"_blank\" href=https://colab.research.google.com/notebooks/data_table.ipynb>data table notebook</a>'\n",
              "            + ' to learn more about interactive tables.';\n",
              "          element.innerHTML = '';\n",
              "          dataTable['output_type'] = 'display_data';\n",
              "          await google.colab.output.renderOutput(dataTable, element);\n",
              "          const docLink = document.createElement('div');\n",
              "          docLink.innerHTML = docLinkHtml;\n",
              "          element.appendChild(docLink);\n",
              "        }\n",
              "      </script>\n",
              "    </div>\n",
              "  </div>\n",
              "  "
            ],
            "text/plain": [
              "         Month  Year\n",
              "2608  2.700000  2011\n",
              "4160  5.766667  2015\n",
              "1936  4.666667  2009\n",
              "1831  5.033333  2009\n",
              "3412  5.166667  2013"
            ]
          },
          "metadata": {},
          "execution_count": 10
        }
      ]
    },
    {
      "cell_type": "code",
      "source": [
        "model = DecisionTreeRegressor(max_leaf_nodes=5000, random_state=0)\n",
        "model.fit(X_train_full, y_train)"
      ],
      "metadata": {
        "colab": {
          "base_uri": "https://localhost:8080/"
        },
        "id": "dlHBR9cSTXEA",
        "outputId": "5d277019-bc98-4aa9-e529-30c51ed5c6bb"
      },
      "execution_count": 11,
      "outputs": [
        {
          "output_type": "execute_result",
          "data": {
            "text/plain": [
              "DecisionTreeRegressor(max_leaf_nodes=5000, random_state=0)"
            ]
          },
          "metadata": {},
          "execution_count": 11
        }
      ]
    },
    {
      "cell_type": "code",
      "source": [
        "def predict(month, year):\n",
        "  df1 = pd.DataFrame([[month, year]], columns = ['Month', 'Year'])\n",
        "  preds_val = model.predict(df1)\n",
        "  return(preds_val)"
      ],
      "metadata": {
        "id": "giVvnFZ4TwML"
      },
      "execution_count": 12,
      "outputs": []
    },
    {
      "cell_type": "markdown",
      "source": [
        "This is the final code that will work as an application"
      ],
      "metadata": {
        "id": "uwzKLwZ1XA2t"
      }
    },
    {
      "cell_type": "code",
      "source": [
        "while True:\n",
        "  print('Please enter the date of the prediction to be made. Note the format should be DD/MM/YYYY. Type \"exit\" to exit from the program: ')\n",
        "  date = str(input())\n",
        "  if date == 'exit':\n",
        "    break\n",
        "  try:\n",
        "    day = int(date[0:2])\n",
        "    month = int(date[3:5])\n",
        "    year = int(date[6:])\n",
        "    month = month + day/30\n",
        "    prediction = predict(month, year)[0]\n",
        "    print('The predicted water level of the reservoir POONDI on ' + date + ' is ' + str(prediction) + ' million cubic feet')\n",
        "  except ValueError:\n",
        "    print('Wrong format, please try again!')"
      ],
      "metadata": {
        "colab": {
          "base_uri": "https://localhost:8080/"
        },
        "id": "w4Vvh2UxVQtA",
        "outputId": "cabfa06e-acc4-4b70-d2aa-bd36758dea8a"
      },
      "execution_count": 14,
      "outputs": [
        {
          "name": "stdout",
          "output_type": "stream",
          "text": [
            "Please enter the date of the prediction to be made. Note the format should be DD/MM/YYYY. Type \"exit\" to exit from the program: \n",
            "27/02/2022\n",
            "The predicted water level of the reservoir POONDI on 27/02/2022 is 1616.0 million cubic feet\n",
            "Please enter the date of the prediction to be made. Note the format should be DD/MM/YYYY. Type \"exit\" to exit from the program: \n",
            "27/02/2017\n",
            "The predicted water level of the reservoir POONDI on 27/02/2017 is 818.0 million cubic feet\n",
            "Please enter the date of the prediction to be made. Note the format should be DD/MM/YYYY. Type \"exit\" to exit from the program: \n",
            "27/02/2077\n",
            "The predicted water level of the reservoir POONDI on 27/02/2077 is 1616.0 million cubic feet\n",
            "Please enter the date of the prediction to be made. Note the format should be DD/MM/YYYY. Type \"exit\" to exit from the program: \n",
            "exit\n"
          ]
        }
      ]
    }
  ]
}